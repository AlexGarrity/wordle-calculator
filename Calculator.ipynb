{
 "cells": [
  {
   "cell_type": "code",
   "execution_count": 50,
   "metadata": {},
   "outputs": [],
   "source": [
    "import requests\n",
    "import datetime"
   ]
  },
  {
   "cell_type": "code",
   "execution_count": 51,
   "metadata": {},
   "outputs": [
    {
     "data": {
      "text/plain": [
       "14855"
      ]
     },
     "execution_count": 51,
     "metadata": {},
     "output_type": "execute_result"
    }
   ],
   "source": [
    "global_word_list : set[str] = set();\n",
    "\n",
    "with open(\"words\", \"r\") as word_file:\n",
    "  for word in word_file:\n",
    "    global_word_list.add(word.strip(\"\\n\"));\n",
    "\n",
    "len(global_word_list)"
   ]
  },
  {
   "cell_type": "code",
   "execution_count": 76,
   "metadata": {},
   "outputs": [],
   "source": [
    "def filter_words(grey_word : list[str], green_word : list[str], yellow_word : list[str], word_list : set[str]):\n",
    "  words_removed : int = 0\n",
    "  words_to_remove : str[str] = set()\n",
    "\n",
    "  for list_word in word_list:\n",
    "    removed : bool = False\n",
    "\n",
    "    for letter in grey_word:\n",
    "      if letter in list_word:\n",
    "        words_to_remove.add(list_word)\n",
    "        removed = True\n",
    "        break\n",
    "\n",
    "    if removed:\n",
    "      continue\n",
    "\n",
    "    for i, letter in enumerate(green_word):\n",
    "      if letter == ' ':\n",
    "        continue\n",
    "\n",
    "      if list_word[i] != letter:\n",
    "        words_to_remove.add(list_word)\n",
    "        removed = True\n",
    "        break\n",
    "\n",
    "    if removed:\n",
    "      continue\n",
    "\n",
    "    for i, letter in enumerate(yellow_word):\n",
    "      if letter == ' ':\n",
    "        continue\n",
    "\n",
    "      if list_word[i] == letter:\n",
    "        words_to_remove.add(list_word)\n",
    "        removed = True\n",
    "        break\n",
    "\n",
    "      if not letter in list_word:\n",
    "        words_to_remove.add(list_word)\n",
    "        removed = True\n",
    "        break\n",
    "\n",
    "\n",
    "  for word in words_to_remove:\n",
    "    word_list.remove(word)\n",
    "\n",
    "  print(f\"Removed {len(words_to_remove)} words\")\n",
    "  return word_list"
   ]
  },
  {
   "cell_type": "code",
   "execution_count": 53,
   "metadata": {},
   "outputs": [],
   "source": [
    "def sort_words_by_frequencies(word_list : set[str]):\n",
    "  frequencies : dict[int, int] = dict()\n",
    "  for character in range(97, 123):\n",
    "    frequencies[chr(character)] = 0\n",
    "\n",
    "  for word in word_list:\n",
    "    for letter in word:\n",
    "      frequencies[letter] = frequencies[letter] + 1\n",
    "\n",
    "  word_scores : dict[str, int] = dict()\n",
    "  for word in word_list:\n",
    "    word_scores[word] = 0\n",
    "    letters_used_already : set[str] = set()\n",
    "    for letter in word:\n",
    "      if letter in letters_used_already:\n",
    "        continue\n",
    "      letters_used_already.add(letter)\n",
    "      word_scores[word] = word_scores[word] + frequencies[letter]\n",
    "\n",
    "  return word_scores"
   ]
  },
  {
   "cell_type": "code",
   "execution_count": 54,
   "metadata": {},
   "outputs": [],
   "source": [
    "def get_next_best_word(frequency_dict : dict[str, int]):\n",
    "  return max(frequency_dict, key=frequency_dict.get)"
   ]
  },
  {
   "cell_type": "code",
   "execution_count": 69,
   "metadata": {},
   "outputs": [],
   "source": [
    "def get_wordle_answer(date : datetime.datetime):\n",
    "  if date is None:\n",
    "    date = datetime.datetime.now().date();\n",
    "    \n",
    "  response = requests.get(f\"https://www.nytimes.com/svc/wordle/v2/{date.year}-{date.month:02}-{date.day:02}.json\")\n",
    "  if response.status_code != 200:\n",
    "    raise IOError(\"Failed to get today's wordle answer\")\n",
    "    \n",
    "  response_text = response.json()\n",
    "  return response_text.get(\"solution\")"
   ]
  },
  {
   "cell_type": "code",
   "execution_count": 56,
   "metadata": {},
   "outputs": [],
   "source": [
    "def submit_guess(answer : str, guess: str):\n",
    "  answer_copy = list(answer)\n",
    "  guess_copy = list(guess)\n",
    "  result_string : list[str] = ['0', '0', '0', '0', '0']\n",
    "\n",
    "  for i in range(len(guess_copy)):\n",
    "    letter = guess_copy[i]\n",
    "    if answer_copy[i] == letter:\n",
    "      result_string[i] = '2'\n",
    "      guess_copy[i] = ' '\n",
    "      answer_copy[i] = ' '\n",
    "\n",
    "  for i in range(len(guess_copy)):\n",
    "    letter = guess_copy[i]\n",
    "    if letter == ' ':\n",
    "      continue\n",
    "\n",
    "    for j, answer_letter in enumerate(answer_copy):\n",
    "      if letter == answer_letter:\n",
    "        answer_copy[j] = ' '\n",
    "        guess_copy[i] = ' '\n",
    "        result_string[i] = '1'\n",
    "        break\n",
    "\n",
    "  return result_string\n",
    "      "
   ]
  },
  {
   "cell_type": "code",
   "execution_count": 87,
   "metadata": {},
   "outputs": [
    {
     "name": "stdout",
     "output_type": "stream",
     "text": [
      "Answer is elude\n",
      "Possible words remaining: 14855\n",
      "Best guess is arose\n",
      "Result is ['0', '0', '0', '0', '2']\n",
      "Removed 14509 words\n",
      "Possible words remaining: 346\n",
      "Best guess is tuile\n",
      "Result is ['0', '1', '0', '1', '2']\n",
      "Removed 337 words\n",
      "Possible words remaining: 9\n",
      "1 - flume (34)\n",
      "2 - glume (34)\n",
      "3 - blume (34)\n",
      "4 - plume (34)\n",
      "5 - kluge (33)\n",
      "6 - fluke (33)\n",
      "7 - pluke (33)\n",
      "8 - blude (32)\n",
      "9 - elude (30)\n",
      "Best guess is plume\n",
      "Result is ['0', '2', '2', '0', '2']\n",
      "Removed 5 words\n",
      "Possible words remaining: 4\n",
      "1 - blude (16)\n",
      "2 - kluge (16)\n",
      "3 - fluke (16)\n",
      "4 - elude (15)\n",
      "Best guess is fluke\n",
      "Result is ['0', '2', '2', '0', '2']\n",
      "Removed 2 words\n",
      "Possible words remaining: 2\n",
      "1 - blude (10)\n",
      "2 - elude (9)\n",
      "Best guess is blude\n",
      "Result is ['0', '2', '2', '2', '2']\n",
      "Removed 1 words\n",
      "The word is elude\n",
      "Guessed in 5\n"
     ]
    }
   ],
   "source": [
    "word_list_copy : set[str] = set()\n",
    "for word in global_word_list:\n",
    "  word_list_copy.add(word)\n",
    "\n",
    "answer = get_wordle_answer(None)\n",
    "print(f\"Answer is {answer}\")\n",
    "\n",
    "guesses = 0;\n",
    "while len(word_list_copy) != 1:\n",
    "  guesses += 1\n",
    "  if len(word_list_copy) == 0:\n",
    "      print(\"No words found\")\n",
    "      break\n",
    "\n",
    "  word_frequencies : dict[str, int] = sort_words_by_frequencies(word_list_copy)\n",
    "\n",
    "  print(f\"Possible words remaining: {len(word_list_copy)}\")\n",
    "  if len(word_list_copy) <= 10:\n",
    "    for i, word in enumerate(reversed(sorted(word_frequencies, key=word_frequencies.get))):\n",
    "      print(f\"{i + 1} - {word} ({word_frequencies.get(word)})\")\n",
    "\n",
    "  guess = get_next_best_word(word_frequencies)\n",
    "  print(f\"Best guess is {guess}\")\n",
    "\n",
    "  wordle_string = submit_guess(answer, guess)\n",
    "  print(f\"Result is {wordle_string}\")\n",
    "\n",
    "  grey_letters : list[str] = [' ', ' ', ' ', ' ', ' ']\n",
    "  yellow_letters : list[str] = [' ', ' ', ' ', ' ', ' ']\n",
    "  green_letters : list[str] = [' ', ' ', ' ', ' ', ' ']\n",
    "\n",
    "  for character_index in range(0, 5):\n",
    "    if (wordle_string[character_index] == '0'):\n",
    "      grey_letters[character_index] = guess[character_index]\n",
    "    elif (wordle_string[character_index] == '1'):\n",
    "      yellow_letters[character_index] = guess[character_index]\n",
    "    elif (wordle_string[character_index] == '2'):\n",
    "      green_letters[character_index] = guess[character_index]\n",
    "    else:\n",
    "      raise RuntimeError(\"String input incorrectly\")\n",
    "  \n",
    "  word_list_copy = filter_words(grey_letters, green_letters, yellow_letters, word_list_copy)\n",
    "\n",
    "print(f\"The word is {list(word_list_copy)[0]}\")\n",
    "print(f\"Guessed in {guesses}\")\n"
   ]
  },
  {
   "cell_type": "code",
   "execution_count": null,
   "metadata": {},
   "outputs": [],
   "source": []
  }
 ],
 "metadata": {
  "kernelspec": {
   "display_name": ".venv",
   "language": "python",
   "name": "python3"
  },
  "language_info": {
   "codemirror_mode": {
    "name": "ipython",
    "version": 3
   },
   "file_extension": ".py",
   "mimetype": "text/x-python",
   "name": "python",
   "nbconvert_exporter": "python",
   "pygments_lexer": "ipython3",
   "version": "3.10.9 (main, Dec 19 2022, 17:35:49) [GCC 12.2.0]"
  },
  "orig_nbformat": 4,
  "vscode": {
   "interpreter": {
    "hash": "41bf40d47617cd460545fe42d84df95d4854f51eeb1bb7e04064340897e78c3e"
   }
  }
 },
 "nbformat": 4,
 "nbformat_minor": 2
}
